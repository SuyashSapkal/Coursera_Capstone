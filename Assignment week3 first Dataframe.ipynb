{
    "cells": [
        {
            "cell_type": "markdown",
            "metadata": {
                "collapsed": true
            },
            "source": "This is the week3 assignment for learning web scraping."
        },
        {
            "cell_type": "markdown",
            "metadata": {},
            "source": "Importing pandas and numpy libraries."
        },
        {
            "cell_type": "code",
            "execution_count": 1,
            "metadata": {},
            "outputs": [],
            "source": "import pandas as pd\nimport numpy as np"
        },
        {
            "cell_type": "markdown",
            "metadata": {},
            "source": "Importing BeautifulSoup libraries."
        },
        {
            "cell_type": "code",
            "execution_count": 2,
            "metadata": {},
            "outputs": [],
            "source": "from bs4 import BeautifulSoup\nimport requests\nfrom urllib.request import urlopen"
        },
        {
            "cell_type": "markdown",
            "metadata": {},
            "source": "Passing the URL to the urlopen() function to get the HTML of the page."
        },
        {
            "cell_type": "code",
            "execution_count": 3,
            "metadata": {},
            "outputs": [],
            "source": "url=\"https://en.wikipedia.org/wiki/List_of_postal_codes_of_Canada:_M\"\nhtml=urlopen(url)"
        },
        {
            "cell_type": "markdown",
            "metadata": {},
            "source": "The Beautiful Soup package is used to parse the html, that is, take the raw html text and break it into Python objects."
        },
        {
            "cell_type": "code",
            "execution_count": 4,
            "metadata": {},
            "outputs": [
                {
                    "data": {
                        "text/plain": "bs4.BeautifulSoup"
                    },
                    "execution_count": 4,
                    "metadata": {},
                    "output_type": "execute_result"
                }
            ],
            "source": "soup = BeautifulSoup(html, 'lxml')\ntype(soup)"
        },
        {
            "cell_type": "markdown",
            "metadata": {},
            "source": "Creating a list of Postal Code Elements named as pc"
        },
        {
            "cell_type": "code",
            "execution_count": 5,
            "metadata": {},
            "outputs": [
                {
                    "name": "stdout",
                    "output_type": "stream",
                    "text": "180\n"
                }
            ],
            "source": "pc=[]\ntable=soup.table\npara=table.find_all('p')\nc=0\nfor p in para:\n    x=p.b.text\n    pc.append(x)\n    c=c+1\nprint(c)"
        },
        {
            "cell_type": "markdown",
            "metadata": {},
            "source": "Creating two lists namely Borough(b) and Neighbourhood(nh)"
        },
        {
            "cell_type": "code",
            "execution_count": 6,
            "metadata": {
                "scrolled": false
            },
            "outputs": [],
            "source": "b=[]\nnh=[]\n\nfor p in para:\n    if(bool(p.find_all('i'))):\n        y=None\n        b.append(y)\n        nh.append(y)\n    else:\n        y=p.span.a\n        z=str(y)\n        x=BeautifulSoup(z,\"lxml\").get_text()\n        b.append(x)\n        \n        temp=[]\n        for y in p.span.find_all('a'):\n            for x in b:\n                if(y.text==x):\n                    present=True\n                    break\n                else:\n                    present=False\n            if(present==False):\n                temp.append(y.text)\n        if(temp!=[]):\n            nh.append(temp)"
        },
        {
            "cell_type": "markdown",
            "metadata": {},
            "source": "I actaully had problem retreiving the Neighbourhood data because it doesnot has mistakes in the html source code. So I tried to add all the data but still was lacking 4 elecements hence I have written them as not assigned."
        },
        {
            "cell_type": "code",
            "execution_count": 7,
            "metadata": {
                "scrolled": true
            },
            "outputs": [],
            "source": "nh.insert(14,\"['Glencairn']\")\nnh.insert(30, \"['The Beaches']\")\nnh.insert(31, \"['Berczy Park']\")\nnh.insert(41, \"['Christie']\")\nnh.insert(84, \"['Studio District']\")\nnh.insert(93, \"['Lawrence Park']\")\nnh.insert(94, \"['Roselawn']\")\nnh.insert(102, \"['Davisville North']\")\nnh.insert(103, \"['Forest Hill North & West']\")\nnh.insert(107, \"['Westmount']\")\nnh.insert(148, \"['Enclave of M5E']\")\nnh.insert(168, \"['Enclave of M4L']\")\nfor t in range(4):\n    x=None\n    nh.append(x)"
        },
        {
            "cell_type": "code",
            "execution_count": 8,
            "metadata": {},
            "outputs": [
                {
                    "data": {
                        "text/html": "<div>\n<style scoped>\n    .dataframe tbody tr th:only-of-type {\n        vertical-align: middle;\n    }\n\n    .dataframe tbody tr th {\n        vertical-align: top;\n    }\n\n    .dataframe thead th {\n        text-align: right;\n    }\n</style>\n<table border=\"1\" class=\"dataframe\">\n  <thead>\n    <tr style=\"text-align: right;\">\n      <th></th>\n      <th>Postal Code</th>\n      <th>Borough</th>\n      <th>Neighbourhood</th>\n    </tr>\n  </thead>\n  <tbody>\n    <tr>\n      <th>0</th>\n      <td>M1A</td>\n      <td>None</td>\n      <td>None</td>\n    </tr>\n    <tr>\n      <th>1</th>\n      <td>M2A</td>\n      <td>None</td>\n      <td>None</td>\n    </tr>\n    <tr>\n      <th>2</th>\n      <td>M3A</td>\n      <td>North York</td>\n      <td>[Parkwoods]</td>\n    </tr>\n    <tr>\n      <th>3</th>\n      <td>M4A</td>\n      <td>North York</td>\n      <td>[Victoria Village]</td>\n    </tr>\n    <tr>\n      <th>4</th>\n      <td>M5A</td>\n      <td>Downtown Toronto</td>\n      <td>[Regent Park, Harbourfront]</td>\n    </tr>\n    <tr>\n      <th>5</th>\n      <td>M6A</td>\n      <td>North York</td>\n      <td>[Lawrence Manor, Lawrence Heights]</td>\n    </tr>\n    <tr>\n      <th>6</th>\n      <td>M7A</td>\n      <td>Downtown Toronto</td>\n      <td>[Queen's Park, Ontario Provincial Government]</td>\n    </tr>\n    <tr>\n      <th>7</th>\n      <td>M8A</td>\n      <td>None</td>\n      <td>None</td>\n    </tr>\n    <tr>\n      <th>8</th>\n      <td>M9A</td>\n      <td>Etobicoke</td>\n      <td>[Islington Avenue]</td>\n    </tr>\n    <tr>\n      <th>9</th>\n      <td>M1B</td>\n      <td>Scarborough</td>\n      <td>[Malvern, Rouge]</td>\n    </tr>\n    <tr>\n      <th>10</th>\n      <td>M2B</td>\n      <td>None</td>\n      <td>None</td>\n    </tr>\n    <tr>\n      <th>11</th>\n      <td>M3B</td>\n      <td>North York</td>\n      <td>[Don Mills]</td>\n    </tr>\n    <tr>\n      <th>12</th>\n      <td>M4B</td>\n      <td>East York</td>\n      <td>[Parkview Hill, Woodbine Gardens]</td>\n    </tr>\n    <tr>\n      <th>13</th>\n      <td>M5B</td>\n      <td>Downtown Toronto</td>\n      <td>[Garden District, Ryerson]</td>\n    </tr>\n    <tr>\n      <th>14</th>\n      <td>M6B</td>\n      <td>North York</td>\n      <td>['Glencairn']</td>\n    </tr>\n    <tr>\n      <th>15</th>\n      <td>M7B</td>\n      <td>None</td>\n      <td>None</td>\n    </tr>\n    <tr>\n      <th>16</th>\n      <td>M8B</td>\n      <td>None</td>\n      <td>None</td>\n    </tr>\n    <tr>\n      <th>17</th>\n      <td>M9B</td>\n      <td>Etobicoke</td>\n      <td>[West Deane Park, Princess Gardens, Martin Gro...</td>\n    </tr>\n    <tr>\n      <th>18</th>\n      <td>M1C</td>\n      <td>Scarborough</td>\n      <td>[Rouge Hill, Port Union, Highland Creek]</td>\n    </tr>\n    <tr>\n      <th>19</th>\n      <td>M2C</td>\n      <td>None</td>\n      <td>None</td>\n    </tr>\n    <tr>\n      <th>20</th>\n      <td>M3C</td>\n      <td>North York</td>\n      <td>[Don Mills, Flemingdon Park]</td>\n    </tr>\n    <tr>\n      <th>21</th>\n      <td>M4C</td>\n      <td>East York</td>\n      <td>[Woodbine Heights]</td>\n    </tr>\n    <tr>\n      <th>22</th>\n      <td>M5C</td>\n      <td>Downtown Toronto</td>\n      <td>[St. James Town]</td>\n    </tr>\n    <tr>\n      <th>23</th>\n      <td>M6C</td>\n      <td>York</td>\n      <td>[Humewood-Cedarvale]</td>\n    </tr>\n    <tr>\n      <th>24</th>\n      <td>M7C</td>\n      <td>None</td>\n      <td>None</td>\n    </tr>\n    <tr>\n      <th>25</th>\n      <td>M8C</td>\n      <td>None</td>\n      <td>None</td>\n    </tr>\n    <tr>\n      <th>26</th>\n      <td>M9C</td>\n      <td>Etobicoke</td>\n      <td>[Markland Wood]</td>\n    </tr>\n    <tr>\n      <th>27</th>\n      <td>M1E</td>\n      <td>Scarborough</td>\n      <td>[Guildwood, Morningside, West Hill]</td>\n    </tr>\n    <tr>\n      <th>28</th>\n      <td>M2E</td>\n      <td>None</td>\n      <td>None</td>\n    </tr>\n    <tr>\n      <th>29</th>\n      <td>M3E</td>\n      <td>None</td>\n      <td>None</td>\n    </tr>\n    <tr>\n      <th>...</th>\n      <td>...</td>\n      <td>...</td>\n      <td>...</td>\n    </tr>\n    <tr>\n      <th>150</th>\n      <td>M7W</td>\n      <td>None</td>\n      <td>None</td>\n    </tr>\n    <tr>\n      <th>151</th>\n      <td>M8W</td>\n      <td>Etobicoke</td>\n      <td>None</td>\n    </tr>\n    <tr>\n      <th>152</th>\n      <td>M9W</td>\n      <td>Etobicoke</td>\n      <td>[St. James Town, Cabbagetown]</td>\n    </tr>\n    <tr>\n      <th>153</th>\n      <td>M1X</td>\n      <td>Scarborough</td>\n      <td>[First Canadian Place, Underground city]</td>\n    </tr>\n    <tr>\n      <th>154</th>\n      <td>M2X</td>\n      <td>None</td>\n      <td>None</td>\n    </tr>\n    <tr>\n      <th>155</th>\n      <td>M3X</td>\n      <td>None</td>\n      <td>None</td>\n    </tr>\n    <tr>\n      <th>156</th>\n      <td>M4X</td>\n      <td>Downtown Toronto</td>\n      <td>[The Kingsway, Old Mill]</td>\n    </tr>\n    <tr>\n      <th>157</th>\n      <td>M5X</td>\n      <td>Downtown Toronto</td>\n      <td>None</td>\n    </tr>\n    <tr>\n      <th>158</th>\n      <td>M6X</td>\n      <td>None</td>\n      <td>None</td>\n    </tr>\n    <tr>\n      <th>159</th>\n      <td>M7X</td>\n      <td>None</td>\n      <td>None</td>\n    </tr>\n    <tr>\n      <th>160</th>\n      <td>M8X</td>\n      <td>Etobicoke</td>\n      <td>None</td>\n    </tr>\n    <tr>\n      <th>161</th>\n      <td>M9X</td>\n      <td>None</td>\n      <td>[Church and Wellesley]</td>\n    </tr>\n    <tr>\n      <th>162</th>\n      <td>M1Y</td>\n      <td>None</td>\n      <td>None</td>\n    </tr>\n    <tr>\n      <th>163</th>\n      <td>M2Y</td>\n      <td>None</td>\n      <td>None</td>\n    </tr>\n    <tr>\n      <th>164</th>\n      <td>M3Y</td>\n      <td>None</td>\n      <td>[Old Mill, Sunnylea, Humber Bay, Mimico, The Q...</td>\n    </tr>\n    <tr>\n      <th>165</th>\n      <td>M4Y</td>\n      <td>Downtown Toronto</td>\n      <td>None</td>\n    </tr>\n    <tr>\n      <th>166</th>\n      <td>M5Y</td>\n      <td>None</td>\n      <td>None</td>\n    </tr>\n    <tr>\n      <th>167</th>\n      <td>M6Y</td>\n      <td>None</td>\n      <td>None</td>\n    </tr>\n    <tr>\n      <th>168</th>\n      <td>M7Y</td>\n      <td>Business reply mail</td>\n      <td>['Enclave of M4L']</td>\n    </tr>\n    <tr>\n      <th>169</th>\n      <td>M8Y</td>\n      <td>Etobicoke</td>\n      <td>None</td>\n    </tr>\n    <tr>\n      <th>170</th>\n      <td>M9Y</td>\n      <td>None</td>\n      <td>None</td>\n    </tr>\n    <tr>\n      <th>171</th>\n      <td>M1Z</td>\n      <td>None</td>\n      <td>None</td>\n    </tr>\n    <tr>\n      <th>172</th>\n      <td>M2Z</td>\n      <td>None</td>\n      <td>None</td>\n    </tr>\n    <tr>\n      <th>173</th>\n      <td>M3Z</td>\n      <td>None</td>\n      <td>None</td>\n    </tr>\n    <tr>\n      <th>174</th>\n      <td>M4Z</td>\n      <td>None</td>\n      <td>[Mimico, The Queensway]</td>\n    </tr>\n    <tr>\n      <th>175</th>\n      <td>M5Z</td>\n      <td>None</td>\n      <td>None</td>\n    </tr>\n    <tr>\n      <th>176</th>\n      <td>M6Z</td>\n      <td>None</td>\n      <td>None</td>\n    </tr>\n    <tr>\n      <th>177</th>\n      <td>M7Z</td>\n      <td>None</td>\n      <td>None</td>\n    </tr>\n    <tr>\n      <th>178</th>\n      <td>M8Z</td>\n      <td>Etobicoke</td>\n      <td>None</td>\n    </tr>\n    <tr>\n      <th>179</th>\n      <td>M9Z</td>\n      <td>None</td>\n      <td>None</td>\n    </tr>\n  </tbody>\n</table>\n<p>180 rows \u00d7 3 columns</p>\n</div>",
                        "text/plain": "    Postal Code              Borough  \\\n0           M1A                 None   \n1           M2A                 None   \n2           M3A           North York   \n3           M4A           North York   \n4           M5A     Downtown Toronto   \n5           M6A           North York   \n6           M7A     Downtown Toronto   \n7           M8A                 None   \n8           M9A            Etobicoke   \n9           M1B          Scarborough   \n10          M2B                 None   \n11          M3B           North York   \n12          M4B            East York   \n13          M5B     Downtown Toronto   \n14          M6B           North York   \n15          M7B                 None   \n16          M8B                 None   \n17          M9B            Etobicoke   \n18          M1C          Scarborough   \n19          M2C                 None   \n20          M3C           North York   \n21          M4C            East York   \n22          M5C     Downtown Toronto   \n23          M6C                 York   \n24          M7C                 None   \n25          M8C                 None   \n26          M9C            Etobicoke   \n27          M1E          Scarborough   \n28          M2E                 None   \n29          M3E                 None   \n..          ...                  ...   \n150         M7W                 None   \n151         M8W            Etobicoke   \n152         M9W            Etobicoke   \n153         M1X          Scarborough   \n154         M2X                 None   \n155         M3X                 None   \n156         M4X     Downtown Toronto   \n157         M5X     Downtown Toronto   \n158         M6X                 None   \n159         M7X                 None   \n160         M8X            Etobicoke   \n161         M9X                 None   \n162         M1Y                 None   \n163         M2Y                 None   \n164         M3Y                 None   \n165         M4Y     Downtown Toronto   \n166         M5Y                 None   \n167         M6Y                 None   \n168         M7Y  Business reply mail   \n169         M8Y            Etobicoke   \n170         M9Y                 None   \n171         M1Z                 None   \n172         M2Z                 None   \n173         M3Z                 None   \n174         M4Z                 None   \n175         M5Z                 None   \n176         M6Z                 None   \n177         M7Z                 None   \n178         M8Z            Etobicoke   \n179         M9Z                 None   \n\n                                         Neighbourhood  \n0                                                 None  \n1                                                 None  \n2                                          [Parkwoods]  \n3                                   [Victoria Village]  \n4                          [Regent Park, Harbourfront]  \n5                   [Lawrence Manor, Lawrence Heights]  \n6        [Queen's Park, Ontario Provincial Government]  \n7                                                 None  \n8                                   [Islington Avenue]  \n9                                     [Malvern, Rouge]  \n10                                                None  \n11                                         [Don Mills]  \n12                   [Parkview Hill, Woodbine Gardens]  \n13                          [Garden District, Ryerson]  \n14                                       ['Glencairn']  \n15                                                None  \n16                                                None  \n17   [West Deane Park, Princess Gardens, Martin Gro...  \n18            [Rouge Hill, Port Union, Highland Creek]  \n19                                                None  \n20                        [Don Mills, Flemingdon Park]  \n21                                  [Woodbine Heights]  \n22                                    [St. James Town]  \n23                                [Humewood-Cedarvale]  \n24                                                None  \n25                                                None  \n26                                     [Markland Wood]  \n27                 [Guildwood, Morningside, West Hill]  \n28                                                None  \n29                                                None  \n..                                                 ...  \n150                                               None  \n151                                               None  \n152                      [St. James Town, Cabbagetown]  \n153           [First Canadian Place, Underground city]  \n154                                               None  \n155                                               None  \n156                           [The Kingsway, Old Mill]  \n157                                               None  \n158                                               None  \n159                                               None  \n160                                               None  \n161                             [Church and Wellesley]  \n162                                               None  \n163                                               None  \n164  [Old Mill, Sunnylea, Humber Bay, Mimico, The Q...  \n165                                               None  \n166                                               None  \n167                                               None  \n168                                 ['Enclave of M4L']  \n169                                               None  \n170                                               None  \n171                                               None  \n172                                               None  \n173                                               None  \n174                            [Mimico, The Queensway]  \n175                                               None  \n176                                               None  \n177                                               None  \n178                                               None  \n179                                               None  \n\n[180 rows x 3 columns]"
                    },
                    "execution_count": 8,
                    "metadata": {},
                    "output_type": "execute_result"
                }
            ],
            "source": "dict={'Postal Code':pc, 'Borough':b, 'Neighbourhood':nh}\ndf1=pd.DataFrame(dict)\ndf1"
        },
        {
            "cell_type": "markdown",
            "metadata": {},
            "source": "Data Frame after dropping."
        },
        {
            "cell_type": "code",
            "execution_count": 9,
            "metadata": {
                "scrolled": true
            },
            "outputs": [
                {
                    "data": {
                        "text/html": "<div>\n<style scoped>\n    .dataframe tbody tr th:only-of-type {\n        vertical-align: middle;\n    }\n\n    .dataframe tbody tr th {\n        vertical-align: top;\n    }\n\n    .dataframe thead th {\n        text-align: right;\n    }\n</style>\n<table border=\"1\" class=\"dataframe\">\n  <thead>\n    <tr style=\"text-align: right;\">\n      <th></th>\n      <th>Postal Code</th>\n      <th>Borough</th>\n      <th>Neighbourhood</th>\n    </tr>\n  </thead>\n  <tbody>\n    <tr>\n      <th>2</th>\n      <td>M3A</td>\n      <td>North York</td>\n      <td>[Parkwoods]</td>\n    </tr>\n    <tr>\n      <th>3</th>\n      <td>M4A</td>\n      <td>North York</td>\n      <td>[Victoria Village]</td>\n    </tr>\n    <tr>\n      <th>4</th>\n      <td>M5A</td>\n      <td>Downtown Toronto</td>\n      <td>[Regent Park, Harbourfront]</td>\n    </tr>\n    <tr>\n      <th>5</th>\n      <td>M6A</td>\n      <td>North York</td>\n      <td>[Lawrence Manor, Lawrence Heights]</td>\n    </tr>\n    <tr>\n      <th>6</th>\n      <td>M7A</td>\n      <td>Downtown Toronto</td>\n      <td>[Queen's Park, Ontario Provincial Government]</td>\n    </tr>\n    <tr>\n      <th>8</th>\n      <td>M9A</td>\n      <td>Etobicoke</td>\n      <td>[Islington Avenue]</td>\n    </tr>\n    <tr>\n      <th>9</th>\n      <td>M1B</td>\n      <td>Scarborough</td>\n      <td>[Malvern, Rouge]</td>\n    </tr>\n    <tr>\n      <th>11</th>\n      <td>M3B</td>\n      <td>North York</td>\n      <td>[Don Mills]</td>\n    </tr>\n    <tr>\n      <th>12</th>\n      <td>M4B</td>\n      <td>East York</td>\n      <td>[Parkview Hill, Woodbine Gardens]</td>\n    </tr>\n    <tr>\n      <th>13</th>\n      <td>M5B</td>\n      <td>Downtown Toronto</td>\n      <td>[Garden District, Ryerson]</td>\n    </tr>\n    <tr>\n      <th>14</th>\n      <td>M6B</td>\n      <td>North York</td>\n      <td>['Glencairn']</td>\n    </tr>\n    <tr>\n      <th>17</th>\n      <td>M9B</td>\n      <td>Etobicoke</td>\n      <td>[West Deane Park, Princess Gardens, Martin Gro...</td>\n    </tr>\n    <tr>\n      <th>18</th>\n      <td>M1C</td>\n      <td>Scarborough</td>\n      <td>[Rouge Hill, Port Union, Highland Creek]</td>\n    </tr>\n    <tr>\n      <th>20</th>\n      <td>M3C</td>\n      <td>North York</td>\n      <td>[Don Mills, Flemingdon Park]</td>\n    </tr>\n    <tr>\n      <th>21</th>\n      <td>M4C</td>\n      <td>East York</td>\n      <td>[Woodbine Heights]</td>\n    </tr>\n    <tr>\n      <th>22</th>\n      <td>M5C</td>\n      <td>Downtown Toronto</td>\n      <td>[St. James Town]</td>\n    </tr>\n    <tr>\n      <th>23</th>\n      <td>M6C</td>\n      <td>York</td>\n      <td>[Humewood-Cedarvale]</td>\n    </tr>\n    <tr>\n      <th>26</th>\n      <td>M9C</td>\n      <td>Etobicoke</td>\n      <td>[Markland Wood]</td>\n    </tr>\n    <tr>\n      <th>27</th>\n      <td>M1E</td>\n      <td>Scarborough</td>\n      <td>[Guildwood, Morningside, West Hill]</td>\n    </tr>\n    <tr>\n      <th>30</th>\n      <td>M4E</td>\n      <td>The Beaches</td>\n      <td>['The Beaches']</td>\n    </tr>\n    <tr>\n      <th>31</th>\n      <td>M5E</td>\n      <td>Downtown Toronto</td>\n      <td>['Berczy Park']</td>\n    </tr>\n    <tr>\n      <th>32</th>\n      <td>M6E</td>\n      <td>York</td>\n      <td>[Caledonia-Fairbanks]</td>\n    </tr>\n    <tr>\n      <th>36</th>\n      <td>M1G</td>\n      <td>Scarborough</td>\n      <td>[Woburn]</td>\n    </tr>\n    <tr>\n      <th>39</th>\n      <td>M4G</td>\n      <td>East York</td>\n      <td>[Leaside]</td>\n    </tr>\n    <tr>\n      <th>40</th>\n      <td>M5G</td>\n      <td>Downtown Toronto</td>\n      <td>[Bay Street]</td>\n    </tr>\n    <tr>\n      <th>41</th>\n      <td>M6G</td>\n      <td>Downtown Toronto</td>\n      <td>['Christie']</td>\n    </tr>\n    <tr>\n      <th>45</th>\n      <td>M1H</td>\n      <td>Scarborough</td>\n      <td>[Cedarbrae]</td>\n    </tr>\n    <tr>\n      <th>46</th>\n      <td>M2H</td>\n      <td>North York</td>\n      <td>[Hillcrest Village]</td>\n    </tr>\n    <tr>\n      <th>47</th>\n      <td>M3H</td>\n      <td>North York</td>\n      <td>[Bathurst Manor, Wilson Heights, Downsview]</td>\n    </tr>\n    <tr>\n      <th>48</th>\n      <td>M4H</td>\n      <td>East York</td>\n      <td>[Thorncliffe Park]</td>\n    </tr>\n    <tr>\n      <th>...</th>\n      <td>...</td>\n      <td>...</td>\n      <td>...</td>\n    </tr>\n    <tr>\n      <th>84</th>\n      <td>M4M</td>\n      <td>None</td>\n      <td>['Studio District']</td>\n    </tr>\n    <tr>\n      <th>85</th>\n      <td>M5M</td>\n      <td>North York</td>\n      <td>[Mount Dennis, Keelsdale and Silverthorn]</td>\n    </tr>\n    <tr>\n      <th>89</th>\n      <td>M9M</td>\n      <td>North York</td>\n      <td>[Birch Cliff, Cliffside]</td>\n    </tr>\n    <tr>\n      <th>90</th>\n      <td>M1N</td>\n      <td>Scarborough</td>\n      <td>[Willowdale]</td>\n    </tr>\n    <tr>\n      <th>91</th>\n      <td>M2N</td>\n      <td>North York</td>\n      <td>[Downsview]</td>\n    </tr>\n    <tr>\n      <th>92</th>\n      <td>M3N</td>\n      <td>North York</td>\n      <td>[Runnymede, The Junction]</td>\n    </tr>\n    <tr>\n      <th>93</th>\n      <td>M4N</td>\n      <td>Lawrence Park</td>\n      <td>['Lawrence Park']</td>\n    </tr>\n    <tr>\n      <th>94</th>\n      <td>M5N</td>\n      <td>None</td>\n      <td>['Roselawn']</td>\n    </tr>\n    <tr>\n      <th>98</th>\n      <td>M9N</td>\n      <td>York</td>\n      <td>[Dorset Park, Wexford Heights, Scarborough Tow...</td>\n    </tr>\n    <tr>\n      <th>99</th>\n      <td>M1P</td>\n      <td>Scarborough</td>\n      <td>[York Mills]</td>\n    </tr>\n    <tr>\n      <th>102</th>\n      <td>M4P</td>\n      <td>Davisville</td>\n      <td>['Davisville North']</td>\n    </tr>\n    <tr>\n      <th>103</th>\n      <td>M5P</td>\n      <td>Forest Hill</td>\n      <td>['Forest Hill North &amp; West']</td>\n    </tr>\n    <tr>\n      <th>107</th>\n      <td>M9P</td>\n      <td>Etobicoke</td>\n      <td>['Westmount']</td>\n    </tr>\n    <tr>\n      <th>108</th>\n      <td>M1R</td>\n      <td>Scarborough</td>\n      <td>[Willowdale]</td>\n    </tr>\n    <tr>\n      <th>111</th>\n      <td>M4R</td>\n      <td>North Toronto</td>\n      <td>[Roncesvalles]</td>\n    </tr>\n    <tr>\n      <th>113</th>\n      <td>M6R</td>\n      <td>Parkdale</td>\n      <td>[Kingsview Village]</td>\n    </tr>\n    <tr>\n      <th>114</th>\n      <td>M7R</td>\n      <td>Mississauga</td>\n      <td>[Agincourt]</td>\n    </tr>\n    <tr>\n      <th>117</th>\n      <td>M1S</td>\n      <td>Scarborough</td>\n      <td>[University of Toronto]</td>\n    </tr>\n    <tr>\n      <th>122</th>\n      <td>M6S</td>\n      <td>Runnymede</td>\n      <td>[Tam O'Shanter, Sullivan]</td>\n    </tr>\n    <tr>\n      <th>126</th>\n      <td>M1T</td>\n      <td>Scarborough</td>\n      <td>[Kensington Market, Chinatown, Grange Park]</td>\n    </tr>\n    <tr>\n      <th>135</th>\n      <td>M1V</td>\n      <td>Scarborough</td>\n      <td>[CN Tower, King and Spadina, Railway Lands, Ha...</td>\n    </tr>\n    <tr>\n      <th>138</th>\n      <td>M4V</td>\n      <td>Summerhill</td>\n      <td>[New Toronto, Mimico]</td>\n    </tr>\n    <tr>\n      <th>139</th>\n      <td>M5V</td>\n      <td>Downtown Toronto</td>\n      <td>[South Steeles, Silverstone, Jamestown, Mount ...</td>\n    </tr>\n    <tr>\n      <th>143</th>\n      <td>M9V</td>\n      <td>Etobicoke</td>\n      <td>[Rosedale]</td>\n    </tr>\n    <tr>\n      <th>147</th>\n      <td>M4W</td>\n      <td>Downtown Toronto</td>\n      <td>[Clairville, Humberwood, Woodbine Downs, Rexda...</td>\n    </tr>\n    <tr>\n      <th>148</th>\n      <td>M5W</td>\n      <td>Downtown Toronto</td>\n      <td>['Enclave of M5E']</td>\n    </tr>\n    <tr>\n      <th>152</th>\n      <td>M9W</td>\n      <td>Etobicoke</td>\n      <td>[St. James Town, Cabbagetown]</td>\n    </tr>\n    <tr>\n      <th>153</th>\n      <td>M1X</td>\n      <td>Scarborough</td>\n      <td>[First Canadian Place, Underground city]</td>\n    </tr>\n    <tr>\n      <th>156</th>\n      <td>M4X</td>\n      <td>Downtown Toronto</td>\n      <td>[The Kingsway, Old Mill]</td>\n    </tr>\n    <tr>\n      <th>168</th>\n      <td>M7Y</td>\n      <td>Business reply mail</td>\n      <td>['Enclave of M4L']</td>\n    </tr>\n  </tbody>\n</table>\n<p>83 rows \u00d7 3 columns</p>\n</div>",
                        "text/plain": "    Postal Code              Borough  \\\n2           M3A           North York   \n3           M4A           North York   \n4           M5A     Downtown Toronto   \n5           M6A           North York   \n6           M7A     Downtown Toronto   \n8           M9A            Etobicoke   \n9           M1B          Scarborough   \n11          M3B           North York   \n12          M4B            East York   \n13          M5B     Downtown Toronto   \n14          M6B           North York   \n17          M9B            Etobicoke   \n18          M1C          Scarborough   \n20          M3C           North York   \n21          M4C            East York   \n22          M5C     Downtown Toronto   \n23          M6C                 York   \n26          M9C            Etobicoke   \n27          M1E          Scarborough   \n30          M4E          The Beaches   \n31          M5E     Downtown Toronto   \n32          M6E                 York   \n36          M1G          Scarborough   \n39          M4G            East York   \n40          M5G     Downtown Toronto   \n41          M6G     Downtown Toronto   \n45          M1H          Scarborough   \n46          M2H           North York   \n47          M3H           North York   \n48          M4H            East York   \n..          ...                  ...   \n84          M4M                 None   \n85          M5M           North York   \n89          M9M           North York   \n90          M1N          Scarborough   \n91          M2N           North York   \n92          M3N           North York   \n93          M4N        Lawrence Park   \n94          M5N                 None   \n98          M9N                 York   \n99          M1P          Scarborough   \n102         M4P           Davisville   \n103         M5P          Forest Hill   \n107         M9P            Etobicoke   \n108         M1R          Scarborough   \n111         M4R        North Toronto   \n113         M6R             Parkdale   \n114         M7R          Mississauga   \n117         M1S          Scarborough   \n122         M6S            Runnymede   \n126         M1T          Scarborough   \n135         M1V          Scarborough   \n138         M4V           Summerhill   \n139         M5V     Downtown Toronto   \n143         M9V            Etobicoke   \n147         M4W     Downtown Toronto   \n148         M5W     Downtown Toronto   \n152         M9W            Etobicoke   \n153         M1X          Scarborough   \n156         M4X     Downtown Toronto   \n168         M7Y  Business reply mail   \n\n                                         Neighbourhood  \n2                                          [Parkwoods]  \n3                                   [Victoria Village]  \n4                          [Regent Park, Harbourfront]  \n5                   [Lawrence Manor, Lawrence Heights]  \n6        [Queen's Park, Ontario Provincial Government]  \n8                                   [Islington Avenue]  \n9                                     [Malvern, Rouge]  \n11                                         [Don Mills]  \n12                   [Parkview Hill, Woodbine Gardens]  \n13                          [Garden District, Ryerson]  \n14                                       ['Glencairn']  \n17   [West Deane Park, Princess Gardens, Martin Gro...  \n18            [Rouge Hill, Port Union, Highland Creek]  \n20                        [Don Mills, Flemingdon Park]  \n21                                  [Woodbine Heights]  \n22                                    [St. James Town]  \n23                                [Humewood-Cedarvale]  \n26                                     [Markland Wood]  \n27                 [Guildwood, Morningside, West Hill]  \n30                                     ['The Beaches']  \n31                                     ['Berczy Park']  \n32                               [Caledonia-Fairbanks]  \n36                                            [Woburn]  \n39                                           [Leaside]  \n40                                        [Bay Street]  \n41                                        ['Christie']  \n45                                         [Cedarbrae]  \n46                                 [Hillcrest Village]  \n47         [Bathurst Manor, Wilson Heights, Downsview]  \n48                                  [Thorncliffe Park]  \n..                                                 ...  \n84                                 ['Studio District']  \n85           [Mount Dennis, Keelsdale and Silverthorn]  \n89                            [Birch Cliff, Cliffside]  \n90                                        [Willowdale]  \n91                                         [Downsview]  \n92                           [Runnymede, The Junction]  \n93                                   ['Lawrence Park']  \n94                                        ['Roselawn']  \n98   [Dorset Park, Wexford Heights, Scarborough Tow...  \n99                                        [York Mills]  \n102                               ['Davisville North']  \n103                       ['Forest Hill North & West']  \n107                                      ['Westmount']  \n108                                       [Willowdale]  \n111                                     [Roncesvalles]  \n113                                [Kingsview Village]  \n114                                        [Agincourt]  \n117                            [University of Toronto]  \n122                          [Tam O'Shanter, Sullivan]  \n126        [Kensington Market, Chinatown, Grange Park]  \n135  [CN Tower, King and Spadina, Railway Lands, Ha...  \n138                              [New Toronto, Mimico]  \n139  [South Steeles, Silverstone, Jamestown, Mount ...  \n143                                         [Rosedale]  \n147  [Clairville, Humberwood, Woodbine Downs, Rexda...  \n148                                 ['Enclave of M5E']  \n152                      [St. James Town, Cabbagetown]  \n153           [First Canadian Place, Underground city]  \n156                           [The Kingsway, Old Mill]  \n168                                 ['Enclave of M4L']  \n\n[83 rows x 3 columns]"
                    },
                    "execution_count": 9,
                    "metadata": {},
                    "output_type": "execute_result"
                }
            ],
            "source": "df1.dropna(axis=0, inplace=True)\ndf1"
        },
        {
            "cell_type": "code",
            "execution_count": 10,
            "metadata": {},
            "outputs": [
                {
                    "data": {
                        "text/plain": "(83, 3)"
                    },
                    "execution_count": 10,
                    "metadata": {},
                    "output_type": "execute_result"
                }
            ],
            "source": "df1.shape"
        }
    ],
    "metadata": {
        "kernelspec": {
            "display_name": "Python 3.6",
            "language": "python",
            "name": "python3"
        },
        "language_info": {
            "codemirror_mode": {
                "name": "ipython",
                "version": 3
            },
            "file_extension": ".py",
            "mimetype": "text/x-python",
            "name": "python",
            "nbconvert_exporter": "python",
            "pygments_lexer": "ipython3",
            "version": "3.6.9"
        }
    },
    "nbformat": 4,
    "nbformat_minor": 1
}